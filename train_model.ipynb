{
 "cells": [
  {
   "cell_type": "markdown",
   "id": "c275e3ee-fe6a-4326-9c5b-2e8a26927102",
   "metadata": {},
   "source": [
    "## Loading the dataset"
   ]
  },
  {
   "cell_type": "code",
   "execution_count": 17,
   "id": "36285c74-2039-4fe2-ae94-ef894146df41",
   "metadata": {},
   "outputs": [],
   "source": [
    "import pandas as pd\n",
    "import numpy as np\n",
    "from sklearn.preprocessing import LabelEncoder\n",
    "from sklearn.model_selection import train_test_split\n",
    "from sklearn.feature_extraction.text import TfidfVectorizer\n",
    "from sklearn.metrics import classification_report, accuracy_score, log_loss, confusion_matrix, make_scorer\n",
    "from sklearn.svm import SVC\n",
    "import joblib"
   ]
  },
  {
   "cell_type": "code",
   "execution_count": 3,
   "id": "ad27d2c4-01aa-46a8-a812-318ef0972c53",
   "metadata": {},
   "outputs": [
    {
     "name": "stdout",
     "output_type": "stream",
     "text": [
      "                                                text                  label\n",
      "0  Suddenly, in the middle of a lecture, I suffer...           Hypertension\n",
      "1  Because of the vomiting and diarrhea, I've had...                Typhoid\n",
      "2  I suffer from constipation, and it's difficult...  Dimorphic Hemorrhoids\n",
      "3  My legs cause me a lot of discomfort when I ex...         Varicose Veins\n",
      "4  The stomach pains have been intense and freque...                Typhoid\n"
     ]
    }
   ],
   "source": [
    "# Load dataset\n",
    "df = pd.read_csv(\"Symptom2DiseaseNew.csv\", encoding=\"latin1\")\n",
    "df = df.sample(frac=1, random_state=42).reset_index(drop=True)\n",
    "# Preview first few rows\n",
    "print(df.head())"
   ]
  },
  {
   "cell_type": "markdown",
   "id": "b0be6430-446c-4542-8bb6-ceeeba9f768c",
   "metadata": {},
   "source": [
    "## Check for Missing Data & Data Types"
   ]
  },
  {
   "cell_type": "code",
   "execution_count": 4,
   "id": "2e2cffe6-93ae-472b-af1b-00fea9600971",
   "metadata": {},
   "outputs": [
    {
     "name": "stdout",
     "output_type": "stream",
     "text": [
      "<class 'pandas.core.frame.DataFrame'>\n",
      "RangeIndex: 7200 entries, 0 to 7199\n",
      "Data columns (total 2 columns):\n",
      " #   Column  Non-Null Count  Dtype \n",
      "---  ------  --------------  ----- \n",
      " 0   text    7200 non-null   object\n",
      " 1   label   7200 non-null   object\n",
      "dtypes: object(2)\n",
      "memory usage: 112.6+ KB\n",
      "None\n",
      "text     0\n",
      "label    0\n",
      "dtype: int64\n"
     ]
    }
   ],
   "source": [
    "print(df.info())       # Check data types\n",
    "print(df.isnull().sum())  # Check missing values"
   ]
  },
  {
   "cell_type": "markdown",
   "id": "2cc7df57-1ed1-4697-9046-74b7b819bf0a",
   "metadata": {},
   "source": [
    "## Encode the Labels\n",
    "Machine learning models work with numeric labels."
   ]
  },
  {
   "cell_type": "code",
   "execution_count": 5,
   "id": "594cb246-fe92-4d47-864b-ca0b1ff3f933",
   "metadata": {},
   "outputs": [
    {
     "name": "stdout",
     "output_type": "stream",
     "text": [
      "{'Acne': np.int64(0), 'Arthritis': np.int64(1), 'Bronchial Asthma': np.int64(2), 'Cervical spondylosis': np.int64(3), 'Chicken pox': np.int64(4), 'Common Cold': np.int64(5), 'Dengue': np.int64(6), 'Dimorphic Hemorrhoids': np.int64(7), 'Fungal infection': np.int64(8), 'Hypertension': np.int64(9), 'Impetigo': np.int64(10), 'Jaundice': np.int64(11), 'Malaria': np.int64(12), 'Migraine': np.int64(13), 'Pneumonia': np.int64(14), 'Psoriasis': np.int64(15), 'Typhoid': np.int64(16), 'Varicose Veins': np.int64(17), 'allergy': np.int64(18), 'diabetes': np.int64(19), 'drug reaction': np.int64(20), 'gastroesophageal reflux disease': np.int64(21), 'peptic ulcer disease': np.int64(22), 'urinary tract infection': np.int64(23)}\n"
     ]
    }
   ],
   "source": [
    "label_encoder = LabelEncoder()\n",
    "df['label_encoded'] = label_encoder.fit_transform(df['label'])\n",
    "\n",
    "# Mapping for later use\n",
    "label_mapping = dict(zip(label_encoder.classes_, label_encoder.transform(label_encoder.classes_)))\n",
    "print(label_mapping)"
   ]
  },
  {
   "cell_type": "markdown",
   "id": "38f70309-e00d-4718-ac51-9eb5385dafba",
   "metadata": {},
   "source": [
    "## Split Data into Train/Test Sets"
   ]
  },
  {
   "cell_type": "code",
   "execution_count": 6,
   "id": "f02fa4e4-8c27-4855-8cbc-aaf20f178456",
   "metadata": {},
   "outputs": [],
   "source": [
    "X = df['text']  # Input (complaints)\n",
    "y = df['label_encoded']  # Output (encoded labels)\n",
    "\n",
    "X_train, X_test, y_train, y_test = train_test_split(\n",
    "    X, y, test_size=0.2, random_state=42, stratify=y\n",
    ")"
   ]
  },
  {
   "cell_type": "markdown",
   "id": "c565203e-7376-4a1b-bfa2-a49fbff872d9",
   "metadata": {},
   "source": [
    "## Convert Text to Numerical Vectors (TF-IDF)\n",
    "\n",
    "We’ll use TF-IDF for converting text into features."
   ]
  },
  {
   "cell_type": "code",
   "execution_count": 7,
   "id": "ab308c95-8055-4ef1-99a9-6cf2bf43c278",
   "metadata": {},
   "outputs": [],
   "source": [
    "vectorizer = TfidfVectorizer(\n",
    "    stop_words = 'english',  # remove common words\n",
    "    max_features = 5000      # limit features for efficiency\n",
    ")\n",
    "X_train_tfidf = vectorizer.fit_transform(X_train)\n",
    "X_test_tfidf = vectorizer.transform(X_test)"
   ]
  },
  {
   "cell_type": "markdown",
   "id": "d36cd214-b235-4830-b8f6-7dc26f6a3d57",
   "metadata": {},
   "source": [
    "## Train an SVC Classification Model"
   ]
  },
  {
   "cell_type": "code",
   "execution_count": 8,
   "id": "e393a296-60d7-4543-8fee-9ef5c0b2038f",
   "metadata": {},
   "outputs": [
    {
     "name": "stdout",
     "output_type": "stream",
     "text": [
      "Accuracy: 0.9986111111111111\n",
      "Test set log loss: 0.043543808695563374\n"
     ]
    }
   ],
   "source": [
    "svc_model = SVC(C=10, kernel = 'rbf', gamma = 'scale', probability=True, random_state=42)\n",
    "svc_model.fit(X_train_tfidf, y_train)\n",
    "\n",
    "y_pred_svm = svc_model.predict(X_test_tfidf)\n",
    "y_pred_proba_svm = svc_model.predict_proba(X_test_tfidf)\n",
    "print(\"Accuracy:\", accuracy_score(y_test, y_pred_svm))\n",
    "print(\"Test set log loss:\", log_loss(y_test, y_pred_proba_svm))"
   ]
  },
  {
   "cell_type": "code",
   "execution_count": 9,
   "id": "9fc22e58-acba-4ba6-8c5b-2cf91c604f91",
   "metadata": {},
   "outputs": [
    {
     "name": "stdout",
     "output_type": "stream",
     "text": [
      "[[60  0  0  0  0  0  0  0  0  0  0  0  0  0  0  0  0  0  0  0  0  0  0  0]\n",
      " [ 0 60  0  0  0  0  0  0  0  0  0  0  0  0  0  0  0  0  0  0  0  0  0  0]\n",
      " [ 0  0 60  0  0  0  0  0  0  0  0  0  0  0  0  0  0  0  0  0  0  0  0  0]\n",
      " [ 0  0  0 60  0  0  0  0  0  0  0  0  0  0  0  0  0  0  0  0  0  0  0  0]\n",
      " [ 0  0  0  0 60  0  0  0  0  0  0  0  0  0  0  0  0  0  0  0  0  0  0  0]\n",
      " [ 0  0  0  0  0 60  0  0  0  0  0  0  0  0  0  0  0  0  0  0  0  0  0  0]\n",
      " [ 0  0  0  0  0  0 60  0  0  0  0  0  0  0  0  0  0  0  0  0  0  0  0  0]\n",
      " [ 0  0  0  0  0  0  0 60  0  0  0  0  0  0  0  0  0  0  0  0  0  0  0  0]\n",
      " [ 0  0  0  0  0  0  0  0 60  0  0  0  0  0  0  0  0  0  0  0  0  0  0  0]\n",
      " [ 0  0  0  0  0  0  0  0  0 59  0  0  0  0  0  0  0  0  0  0  1  0  0  0]\n",
      " [ 0  0  0  0  0  0  0  0  0  0 60  0  0  0  0  0  0  0  0  0  0  0  0  0]\n",
      " [ 0  0  0  0  0  0  0  0  0  0  0 60  0  0  0  0  0  0  0  0  0  0  0  0]\n",
      " [ 0  0  0  0  0  0  0  0  0  0  0  0 60  0  0  0  0  0  0  0  0  0  0  0]\n",
      " [ 0  0  0  0  0  0  0  0  0  0  0  0  0 60  0  0  0  0  0  0  0  0  0  0]\n",
      " [ 0  0  0  0  0  0  0  0  0  0  0  0  0  0 60  0  0  0  0  0  0  0  0  0]\n",
      " [ 0  0  0  0  0  0  1  0  0  0  0  0  0  0  0 59  0  0  0  0  0  0  0  0]\n",
      " [ 0  0  0  0  0  0  0  0  0  0  0  0  0  0  0  0 60  0  0  0  0  0  0  0]\n",
      " [ 0  0  0  0  0  0  0  0  0  0  0  0  0  0  0  0  0 60  0  0  0  0  0  0]\n",
      " [ 0  0  0  0  0  0  0  0  0  0  0  0  0  0  0  0  0  0 60  0  0  0  0  0]\n",
      " [ 0  0  0  0  0  0  0  0  0  0  0  0  0  0  0  0  0  0  0 60  0  0  0  0]\n",
      " [ 0  0  0  0  0  0  0  0  0  0  0  0  0  0  0  0  0  0  0  0 60  0  0  0]\n",
      " [ 0  0  0  0  0  0  0  0  0  0  0  0  0  0  0  0  0  0  0  0  0 60  0  0]\n",
      " [ 0  0  0  0  0  0  0  0  0  0  0  0  0  0  0  0  0  0  0  0  0  0 60  0]\n",
      " [ 0  0  0  0  0  0  0  0  0  0  0  0  0  0  0  0  0  0  0  0  0  0  0 60]]\n"
     ]
    }
   ],
   "source": [
    "print(confusion_matrix(y_test, y_pred_svm))"
   ]
  },
  {
   "cell_type": "code",
   "execution_count": 10,
   "id": "19bc968d-12e7-42e8-a5f3-32cfffca4930",
   "metadata": {},
   "outputs": [
    {
     "name": "stdout",
     "output_type": "stream",
     "text": [
      "Classification Report:\n",
      "                                  precision    recall  f1-score   support\n",
      "\n",
      "                           Acne       1.00      1.00      1.00        60\n",
      "                      Arthritis       1.00      1.00      1.00        60\n",
      "               Bronchial Asthma       1.00      1.00      1.00        60\n",
      "           Cervical spondylosis       1.00      1.00      1.00        60\n",
      "                    Chicken pox       1.00      1.00      1.00        60\n",
      "                    Common Cold       1.00      1.00      1.00        60\n",
      "                         Dengue       0.98      1.00      0.99        60\n",
      "          Dimorphic Hemorrhoids       1.00      1.00      1.00        60\n",
      "               Fungal infection       1.00      1.00      1.00        60\n",
      "                   Hypertension       1.00      0.98      0.99        60\n",
      "                       Impetigo       1.00      1.00      1.00        60\n",
      "                       Jaundice       1.00      1.00      1.00        60\n",
      "                        Malaria       1.00      1.00      1.00        60\n",
      "                       Migraine       1.00      1.00      1.00        60\n",
      "                      Pneumonia       1.00      1.00      1.00        60\n",
      "                      Psoriasis       1.00      0.98      0.99        60\n",
      "                        Typhoid       1.00      1.00      1.00        60\n",
      "                 Varicose Veins       1.00      1.00      1.00        60\n",
      "                        allergy       1.00      1.00      1.00        60\n",
      "                       diabetes       1.00      1.00      1.00        60\n",
      "                  drug reaction       0.98      1.00      0.99        60\n",
      "gastroesophageal reflux disease       1.00      1.00      1.00        60\n",
      "           peptic ulcer disease       1.00      1.00      1.00        60\n",
      "        urinary tract infection       1.00      1.00      1.00        60\n",
      "\n",
      "                       accuracy                           1.00      1440\n",
      "                      macro avg       1.00      1.00      1.00      1440\n",
      "                   weighted avg       1.00      1.00      1.00      1440\n",
      "\n"
     ]
    }
   ],
   "source": [
    "print(\"Classification Report:\\n\", classification_report(y_test, y_pred_svm, target_names=label_encoder.classes_))"
   ]
  },
  {
   "cell_type": "markdown",
   "id": "4d4a79ff-af2d-4c3f-9cb1-50688a53fd77",
   "metadata": {},
   "source": [
    "## SAVE OBJECTS FOR DEPLOYMENT"
   ]
  },
  {
   "cell_type": "code",
   "execution_count": 18,
   "id": "0783a334-bc1f-47f6-a5b3-d736f7f5a7d2",
   "metadata": {},
   "outputs": [
    {
     "data": {
      "text/plain": [
       "['label_mapping.pkl']"
      ]
     },
     "execution_count": 18,
     "metadata": {},
     "output_type": "execute_result"
    }
   ],
   "source": [
    "joblib.dump(svc_model, \"svc_model.pkl\")            # Model\n",
    "joblib.dump(vectorizer, \"tfidf_vectorizer.pkl\")    # Vectorizer\n",
    "joblib.dump(label_encoder, \"label_encoder.pkl\")    # Label Encoder\n",
    "joblib.dump(label_mapping, \"label_mapping.pkl\")    # Label mapping dictionary"
   ]
  }
 ],
 "metadata": {
  "kernelspec": {
   "display_name": "Python 3 (ipykernel)",
   "language": "python",
   "name": "python3"
  },
  "language_info": {
   "codemirror_mode": {
    "name": "ipython",
    "version": 3
   },
   "file_extension": ".py",
   "mimetype": "text/x-python",
   "name": "python",
   "nbconvert_exporter": "python",
   "pygments_lexer": "ipython3",
   "version": "3.13.5"
  }
 },
 "nbformat": 4,
 "nbformat_minor": 5
}
